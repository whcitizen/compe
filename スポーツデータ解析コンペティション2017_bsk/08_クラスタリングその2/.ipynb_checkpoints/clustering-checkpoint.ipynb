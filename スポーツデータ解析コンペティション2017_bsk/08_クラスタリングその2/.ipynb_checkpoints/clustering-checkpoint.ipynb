{
 "cells": [
  {
   "cell_type": "code",
   "execution_count": 44,
   "metadata": {
    "collapsed": false,
    "scrolled": true
   },
   "outputs": [
    {
     "data": {
      "text/plain": [
       "0         PG\n",
       "1         PG\n",
       "2         SF\n",
       "3      PG/SG\n",
       "4         SF\n",
       "5         SF\n",
       "6      SF/PF\n",
       "7         PG\n",
       "8         SG\n",
       "9      PG/SG\n",
       "10        PG\n",
       "11        PF\n",
       "12        SG\n",
       "13     PG/SG\n",
       "14        PG\n",
       "15        PG\n",
       "16        SG\n",
       "17        SF\n",
       "18        PF\n",
       "19        PG\n",
       "20        PG\n",
       "21        SG\n",
       "22     SF/PF\n",
       "23      PF/C\n",
       "24        SG\n",
       "25        SG\n",
       "26        PG\n",
       "27        PG\n",
       "28        SG\n",
       "29        SF\n",
       "       ...  \n",
       "472    SF/PF\n",
       "473     PF/C\n",
       "474       SG\n",
       "475       PG\n",
       "476    PG/SG\n",
       "477    SG/SF\n",
       "478       PG\n",
       "479       PG\n",
       "480    SG/SF\n",
       "481       PF\n",
       "482       PG\n",
       "483       PF\n",
       "484    SG/SF\n",
       "485    SG/SF\n",
       "486       SF\n",
       "487    SF/PF\n",
       "488    SF/PF\n",
       "489        G\n",
       "490       PF\n",
       "491       PF\n",
       "492        C\n",
       "493       SG\n",
       "494    SF/PF\n",
       "495       SG\n",
       "496    PG/SG\n",
       "497       PG\n",
       "498       SG\n",
       "499    SG/SF\n",
       "500    SF/PF\n",
       "501       SF\n",
       "Name: position, dtype: object"
      ]
     },
     "execution_count": 44,
     "metadata": {},
     "output_type": "execute_result"
    }
   ],
   "source": [
    "#データの読込\n",
    "import numpy as np\n",
    "import pandas as pd\n",
    "import codecs\n",
    "\n",
    "with codecs.open(\"input_data.csv\",\"r\",\"Shift-JIS\",\"ignore\") as file:\n",
    "    df = pd.read_csv(file)\n",
    "with codecs.open(\"input_data.csv\",\"r\",\"Shift-JIS\",\"ignore\") as file2:\n",
    "    df2 = pd.read_csv(file2)"
   ]
  },
  {
   "cell_type": "code",
   "execution_count": 40,
   "metadata": {
    "collapsed": false,
    "scrolled": false
   },
   "outputs": [],
   "source": [
    "#プレイタイム上位半分のデータを選択\n",
    "median = df[\"プレイタイム\"].median()\n",
    "df = df.loc[df[\"プレイタイム\"] >= median]\n",
    "\n",
    "#ポジションデータを一旦消去\n",
    "del df[\"position\"]\n",
    "\n",
    "#データの標準化\n",
    "df_st = df.apply(lambda x: (x-x.mean())/x.std(), axis=0).fillna(0)\n",
    "\n",
    "#選手IDと6manのデータの変更\n",
    "df_st[\"選手ID\"] = df[\"選手ID\"]\n",
    "df_st[\"6man\"] = df[\"6man\"]\n",
    "df_st[\"position\"] = df2[\"position\"]\n",
    "\n",
    "#行番号の振り直し\n",
    "df_st = df_st.reset_index(drop = True)"
   ]
  },
  {
   "cell_type": "code",
   "execution_count": 41,
   "metadata": {
    "collapsed": false
   },
   "outputs": [],
   "source": [
    "#csv出力\n",
    "df_st.to_csv(\"clustering_data.csv\")"
   ]
  },
  {
   "cell_type": "code",
   "execution_count": 43,
   "metadata": {
    "collapsed": false,
    "scrolled": true
   },
   "outputs": [],
   "source": [
    "from sklearn.cluster import KMeans\n",
    "from sklearn.decomposition import PCA\n",
    "import matplotlib.pyplot as plt\n",
    "\n",
    "with codecs.open(\"clustering_data.csv\",\"r\",\"Shift-JIS\",\"ignore\") as file:\n",
    "    playerdf = pd.read_csv(file)\n",
    "    \n",
    "#選手ID,6man,ポジション情報を削除\n",
    "del playerdf[\"選手ID\"]\n",
    "del playerdf[\"6man\"]\n",
    "del playerdf[\"position\"]\n",
    "\n",
    "#dfをarrayに変換\n",
    "player = playerdf.as_matrix()\n",
    "\n",
    "#行番号を削除\n",
    "player = np.delete(player,0,1)\n",
    "\n",
    "#最適なクラスタ数の計算\n",
    "distortions = []\n",
    "\n",
    "for i in range(1,21):               \n",
    "    km = KMeans(n_clusters=i).fit(player) \n",
    "    distortions.append(km.inertia_)   \n",
    "\n",
    "#クラスタ内誤差平方和のグラフ表示\n",
    "plt.plot(range(1,21),distortions,marker='o')\n",
    "plt.xlabel('Number of clusters')\n",
    "plt.ylabel('Distortion')\n",
    "\n",
    "#画像として保存\n",
    "plt.savefig(\"clustering_k.png\")"
   ]
  },
  {
   "cell_type": "code",
   "execution_count": 20,
   "metadata": {
    "collapsed": false
   },
   "outputs": [],
   "source": [
    "#最適(ということにする)クラスタ数でのクラスタリング\n",
    "km = KMeans(n_clusters=5).fit_predict(player) \n",
    "\n",
    "#PCAで次元削減\n",
    "pca = PCA(n_components=2)\n",
    "player_r = pca.fit_transform(player)\n",
    "\n",
    "# 結果を散布図にプロット\n",
    "plt.figure()\n",
    "for i in range(0, len(km)):\n",
    "    if km[i] == 0:\n",
    "        plt.scatter(player_r[i, 0], player_r[i, 1], c='red')\n",
    "    elif km[i] == 1:\n",
    "        plt.scatter(player_r[i, 0], player_r[i, 1], c='green')\n",
    "    elif km[i] == 2:\n",
    "        plt.scatter(player_r[i, 0], player_r[i, 1], c='Cyan')\n",
    "    elif km[i] == 3:\n",
    "        plt.scatter(player_r[i, 0], player_r[i, 1], c='orange')\n",
    "    elif km[i] == 4:\n",
    "        plt.scatter(player_r[i, 0], player_r[i, 1], c='pink')\n",
    "\n",
    "plt.title(\"player clustering\")\n",
    "        \n",
    "sixman = [22, 28, 31, 32, 52, 85, 158, 165, 172, 181, 217, 223]\n",
    "for i in range(0, len(sixman)):\n",
    "    plt.plot(player_r[sixman[i],0], player_r[sixman[i],1], color = \"blue\", marker = \"*\", markersize = 15)\n",
    "        \n",
    "#画像として保存\n",
    "plt.savefig(\"clustering_output.png\")"
   ]
  },
  {
   "cell_type": "code",
   "execution_count": 6,
   "metadata": {
    "collapsed": false,
    "scrolled": true
   },
   "outputs": [],
   "source": [
    "#プレイヤーデータに選手ID,クラスタ番号,6manを追加\n",
    "playerdf[\"clusterid\"] = km\n",
    "playerdf[\"選手ID\"] = df_st[\"選手ID\"]\n",
    "del playerdf[\"Unnamed: 0\"]\n",
    "playerdf[\"6man\"] = df_st[\"6man\"]\n",
    "\n",
    "#csv出力\n",
    "playerdf.to_csv(\"clustering_result_data.csv\")"
   ]
  },
  {
   "cell_type": "code",
   "execution_count": 7,
   "metadata": {
    "collapsed": false
   },
   "outputs": [],
   "source": [
    "player_c = playerdf\n",
    "\n",
    "del player_c[\"選手ID\"]\n",
    "del player_c[\"6man\"]"
   ]
  },
  {
   "cell_type": "code",
   "execution_count": 8,
   "metadata": {
    "collapsed": false
   },
   "outputs": [],
   "source": [
    "#各クラスタの特徴\n",
    "c0 = player_c[player_c['clusterid']==0].mean()\n",
    "c1 = player_c[player_c['clusterid']==1].mean()\n",
    "c2 = player_c[player_c['clusterid']==2].mean()\n",
    "c3 = player_c[player_c['clusterid']==3].mean()\n",
    "c4 = player_c[player_c['clusterid']==4].mean()\n",
    "\n",
    "c0.to_csv(\"cluster0.csv\")\n",
    "c1.to_csv(\"cluster1.csv\")\n",
    "c2.to_csv(\"cluster2.csv\")\n",
    "c3.to_csv(\"cluster3.csv\")\n",
    "c4.to_csv(\"cluster4.csv\")"
   ]
  },
  {
   "cell_type": "code",
   "execution_count": null,
   "metadata": {
    "collapsed": true
   },
   "outputs": [],
   "source": []
  }
 ],
 "metadata": {
  "kernelspec": {
   "display_name": "Python 3",
   "language": "python",
   "name": "python3"
  },
  "language_info": {
   "codemirror_mode": {
    "name": "ipython",
    "version": 3
   },
   "file_extension": ".py",
   "mimetype": "text/x-python",
   "name": "python",
   "nbconvert_exporter": "python",
   "pygments_lexer": "ipython3",
   "version": "3.6.0"
  }
 },
 "nbformat": 4,
 "nbformat_minor": 2
}
