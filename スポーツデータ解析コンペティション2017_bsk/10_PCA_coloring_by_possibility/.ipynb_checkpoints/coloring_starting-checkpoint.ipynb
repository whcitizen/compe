{
 "cells": [
  {
   "cell_type": "code",
   "execution_count": 4,
   "metadata": {
    "collapsed": false,
    "scrolled": true
   },
   "outputs": [],
   "source": [
    "#データの読込\n",
    "import numpy as np\n",
    "import pandas as pd\n",
    "import codecs\n",
    "\n",
    "with codecs.open(\"input_6man.csv\",\"r\",\"Shift-JIS\",\"ignore\") as file:\n",
    "    df = pd.read_csv(file)\n",
    "with codecs.open(\"input_6man.csv\",\"r\",\"Shift-JIS\",\"ignore\") as file2:\n",
    "    df2 = pd.read_csv(file2)\n",
    "with codecs.open(\"input_starting.csv\",\"r\",\"Shift-JIS\",\"ignore\") as file3:\n",
    "    df3 = pd.read_csv(file3)"
   ]
  },
  {
   "cell_type": "code",
   "execution_count": 5,
   "metadata": {
    "collapsed": false,
    "scrolled": true
   },
   "outputs": [],
   "source": [
    "#プレイタイム上位半分のデータを選択\n",
    "median = df[\"play_time\"].median()\n",
    "df = df.loc[df[\"play_time\"] >= median]\n",
    "\n",
    "#ポジションデータを一旦消去\n",
    "del df[\"position\"]\n",
    "\n",
    "#データの標準化\n",
    "df_st = df.apply(lambda x: (x-x.mean())/x.std(), axis=0).fillna(0)\n",
    "\n",
    "#選手IDと6manのデータの変更\n",
    "df_st[\"player_id\"] = df[\"player_id\"]\n",
    "df_st[\"frag_6man\"] = df[\"frag_6man\"]\n",
    "df_st[\"possibility_starting\"] = df3[\"possibility_starting\"]\n",
    "df_st[\"position\"] = df2[\"position\"]\n",
    "\n",
    "#行番号の振り直し\n",
    "df_st = df_st.reset_index(drop = True)"
   ]
  },
  {
   "cell_type": "code",
   "execution_count": 6,
   "metadata": {
    "collapsed": false
   },
   "outputs": [],
   "source": [
    "#csv出力\n",
    "df_st.to_csv(\"coloring_starting.csv\")"
   ]
  },
  {
   "cell_type": "code",
   "execution_count": 8,
   "metadata": {
    "collapsed": false,
    "scrolled": true
   },
   "outputs": [],
   "source": [
    "from sklearn.cluster import KMeans\n",
    "from sklearn.decomposition import PCA\n",
    "import matplotlib.pyplot as plt\n",
    "\n",
    "with codecs.open(\"coloring_starting.csv\",\"r\",\"Shift-JIS\",\"ignore\") as file:\n",
    "    playerdf = pd.read_csv(file)\n",
    "    \n",
    "#選手IDを削除\n",
    "del playerdf[\"player_id\"]\n",
    "del playerdf[\"frag_6man\"]\n",
    "del playerdf[\"possibility_starting\"]\n",
    "del playerdf[\"position\"]\n",
    "del playerdf[\"probability_6man\"]\n",
    "\n",
    "#dfをarrayに変換\n",
    "player = playerdf.as_matrix()\n",
    "\n",
    "#行番号を削除\n",
    "player = np.delete(player,0,1)"
   ]
  },
  {
   "cell_type": "code",
   "execution_count": 15,
   "metadata": {
    "collapsed": false
   },
   "outputs": [],
   "source": [
    "#PCAで次元削減\n",
    "pca = PCA(n_components=2)\n",
    "player_r = pca.fit_transform(player)\n",
    "\n",
    "#starting_possibilityのデータフレームを作成\n",
    "df_starting = df_st[\"possibility_starting\"].rank()\n",
    "\n",
    "# 結果を散布図にプロット\n",
    "plt.figure()\n",
    "for i in range(0, len(df_starting)):\n",
    "    if df_starting[i] <= len(df_starting) * 1/3 :\n",
    "        plt.scatter(player_r[i, 0], player_r[i, 1], c= \"blue\", alpha = 0.5)\n",
    "    else:\n",
    "        plt.scatter(player_r[i, 0], player_r[i, 1], c= \"red\", alpha = 0.5)\n",
    "\n",
    "\n",
    "\"\"\"\n",
    "for i in range(0, len(df_starting)):\n",
    "    if df_starting[i] <= len(df_starting) * 1/7 :\n",
    "        plt.scatter(player_r[i, 0], player_r[i, 1], c= \"red\")\n",
    "    elif df_starting[i] <= len(df_starting) * 2/7:\n",
    "        plt.scatter(player_r[i, 0], player_r[i, 1], c= \"yellow\")\n",
    "    elif df_starting[i] <= len(df_starting) * 3/7:\n",
    "        plt.scatter(player_r[i, 0], player_r[i, 1], c= \"green\")\n",
    "    elif df_starting[i] <= len(df_starting) * 4/7:\n",
    "        plt.scatter(player_r[i, 0], player_r[i, 1], c= \"skyblue\")\n",
    "    elif df_starting[i] <= len(df_starting) * 5/7:\n",
    "        plt.scatter(player_r[i, 0], player_r[i, 1], c= \"blue\")\n",
    "    elif df_starting[i] <= len(df_starting) * 6/7:\n",
    "        plt.scatter(player_r[i, 0], player_r[i, 1], c= \"darkblue\")\n",
    "    else:\n",
    "        plt.scatter(player_r[i, 0], player_r[i, 1], c= \"purple\")\n",
    "\"\"\"\n",
    "\n",
    "plt.title(\"coloring_by_starting\")\n",
    "        \n",
    "#画像として保存\n",
    "plt.savefig(\"coloring_by_starting.png\")"
   ]
  },
  {
   "cell_type": "code",
   "execution_count": null,
   "metadata": {
    "collapsed": true
   },
   "outputs": [],
   "source": []
  }
 ],
 "metadata": {
  "kernelspec": {
   "display_name": "Python 3",
   "language": "python",
   "name": "python3"
  },
  "language_info": {
   "codemirror_mode": {
    "name": "ipython",
    "version": 3
   },
   "file_extension": ".py",
   "mimetype": "text/x-python",
   "name": "python",
   "nbconvert_exporter": "python",
   "pygments_lexer": "ipython3",
   "version": "3.6.0"
  }
 },
 "nbformat": 4,
 "nbformat_minor": 2
}
