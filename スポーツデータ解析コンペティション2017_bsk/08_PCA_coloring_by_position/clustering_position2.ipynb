{
 "cells": [
  {
   "cell_type": "code",
   "execution_count": 5,
   "metadata": {
    "collapsed": false,
    "scrolled": true
   },
   "outputs": [],
   "source": [
    "#データの読込\n",
    "import numpy as np\n",
    "import pandas as pd\n",
    "import codecs\n",
    "\n",
    "with codecs.open(\"input_data.csv\",\"r\",\"Shift-JIS\",\"ignore\") as file:\n",
    "    df = pd.read_csv(file)\n",
    "with codecs.open(\"input_data.csv\",\"r\",\"Shift-JIS\",\"ignore\") as file2:\n",
    "    df2 = pd.read_csv(file2)"
   ]
  },
  {
   "cell_type": "code",
   "execution_count": 6,
   "metadata": {
    "collapsed": false,
    "scrolled": false
   },
   "outputs": [],
   "source": [
    "#プレイタイム上位半分のデータを選択\n",
    "median = df[\"プレイタイム\"].median()\n",
    "df = df.loc[df[\"プレイタイム\"] >= median]\n",
    "\n",
    "#ポジションデータを一旦消去\n",
    "del df[\"position\"]\n",
    "\n",
    "#データの標準化\n",
    "df_st = df.apply(lambda x: (x-x.mean())/x.std(), axis=0).fillna(0)\n",
    "\n",
    "#選手IDと6manのデータの変更\n",
    "df_st[\"選手ID\"] = df[\"選手ID\"]\n",
    "df_st[\"6man\"] = df[\"6man\"]\n",
    "df_st[\"position\"] = df2[\"position\"]\n",
    "\n",
    "#行番号の振り直し\n",
    "df_st = df_st.reset_index(drop = True)"
   ]
  },
  {
   "cell_type": "code",
   "execution_count": 7,
   "metadata": {
    "collapsed": false,
    "scrolled": true
   },
   "outputs": [],
   "source": [
    "from sklearn.cluster import KMeans\n",
    "from sklearn.decomposition import PCA\n",
    "import matplotlib.pyplot as plt\n",
    "\n",
    "with codecs.open(\"clustering_data.csv\",\"r\",\"Shift-JIS\",\"ignore\") as file:\n",
    "    playerdf = pd.read_csv(file)\n",
    "    \n",
    "#選手ID,6man,ポジション情報を削除\n",
    "del playerdf[\"選手ID\"]\n",
    "del playerdf[\"6man\"]\n",
    "del playerdf[\"position\"]\n",
    "\n",
    "#dfをarrayに変換\n",
    "player = playerdf.as_matrix()\n",
    "\n",
    "#行番号を削除\n",
    "player = np.delete(player,0,1)"
   ]
  },
  {
   "cell_type": "code",
   "execution_count": 9,
   "metadata": {
    "collapsed": false
   },
   "outputs": [],
   "source": [
    "#最適(ということにする)クラスタ数でのクラスタリング\n",
    "km = KMeans(n_clusters=5).fit_predict(player) \n",
    "\n",
    "#PCAで次元削減\n",
    "pca = PCA(n_components=2)\n",
    "player_r = pca.fit_transform(player)\n",
    "\n",
    "#ポジションのデータフレームを作成\n",
    "dfpos = df_st[\"position\"]\n",
    "\n",
    "# 結果を散布図にプロット\n",
    "plt.figure()\n",
    "for i in range(0, len(km)):\n",
    "    if dfpos[i] == \"PG\":\n",
    "        plt.scatter(player_r[i, 0], player_r[i, 1], c='red')\n",
    "    elif dfpos[i] == \"G\":\n",
    "        plt.scatter(player_r[i, 0], player_r[i, 1], c='red')\n",
    "    elif dfpos[i] == \"PG/SG\":\n",
    "        plt.scatter(player_r[i, 0], player_r[i, 1], c='red')\n",
    "    elif dfpos[i] == \"SG\":\n",
    "        plt.scatter(player_r[i, 0], player_r[i, 1], c='red')\n",
    "    elif dfpos[i] == \"G/F\":\n",
    "        plt.scatter(player_r[i, 0], player_r[i, 1], c='red')\n",
    "    elif dfpos[i] == \"SG/SF\":\n",
    "        plt.scatter(player_r[i, 0], player_r[i, 1], c='red')\n",
    "    elif dfpos[i] == \"SF\":\n",
    "        plt.scatter(player_r[i, 0], player_r[i, 1], c='red')\n",
    "    elif dfpos[i] == \"F\":\n",
    "        plt.scatter(player_r[i, 0], player_r[i, 1], c='purple')\n",
    "    elif dfpos[i] == \"SF/PF\":\n",
    "        plt.scatter(player_r[i, 0], player_r[i, 1], c='purple')\n",
    "    elif dfpos[i] == \"PF\":\n",
    "        plt.scatter(player_r[i, 0], player_r[i, 1], c='blue')\n",
    "    elif dfpos[i] == \"F/C\":\n",
    "        plt.scatter(player_r[i, 0], player_r[i, 1], c='blue')\n",
    "    elif dfpos[i] == \"PF/C\":\n",
    "        plt.scatter(player_r[i, 0], player_r[i, 1], c='blue')\n",
    "    elif dfpos[i] == \"C\":\n",
    "        plt.scatter(player_r[i, 0], player_r[i, 1], c='blue')\n",
    "\n",
    "plt.title(\"player clustering (red = outside, blue = inside)\")\n",
    "plt.xlim([-7,15])\n",
    "plt.ylim([-6,7])\n",
    "        \n",
    "sixman = [22, 28, 31, 32, 52, 85, 158, 165, 172, 181, 217, 223]\n",
    "for i in range(0, len(sixman)):\n",
    "    if dfpos[sixman[i]] == \"PG\":\n",
    "        plt.plot(player_r[sixman[i],0], player_r[sixman[i],1], color = \"red\", marker = \"*\", markersize = 15)\n",
    "    elif dfpos[sixman[i]] == \"G\":\n",
    "        plt.plot(player_r[sixman[i],0], player_r[sixman[i],1], color = \"red\", marker = \"*\", markersize = 15)\n",
    "    elif dfpos[sixman[i]] == \"PG/SG\":\n",
    "        plt.plot(player_r[sixman[i],0], player_r[sixman[i],1], color = \"red\", marker = \"*\", markersize = 15)\n",
    "    elif dfpos[sixman[i]] == \"SG\":\n",
    "        plt.plot(player_r[sixman[i],0], player_r[sixman[i],1], color = \"red\", marker = \"*\", markersize = 15)\n",
    "    elif dfpos[sixman[i]] == \"G/F\":\n",
    "        plt.plot(player_r[sixman[i],0], player_r[sixman[i],1], color = \"red\", marker = \"*\", markersize = 15)\n",
    "    elif dfpos[sixman[i]] == \"SG/SF\":\n",
    "        plt.plot(player_r[sixman[i],0], player_r[sixman[i],1], color = \"red\", marker = \"*\", markersize = 15)\n",
    "    elif dfpos[sixman[i]] == \"SF\":\n",
    "        plt.plot(player_r[sixman[i],0], player_r[sixman[i],1], color = \"red\", marker = \"*\", markersize = 15)\n",
    "    elif dfpos[sixman[i]] == \"F\":\n",
    "        plt.plot(player_r[sixman[i],0], player_r[sixman[i],1], color = \"purple\", marker = \"*\", markersize = 15)\n",
    "    elif dfpos[sixman[i]] == \"SF/PF\":\n",
    "        plt.plot(player_r[sixman[i],0], player_r[sixman[i],1], color = \"purple\", marker = \"*\", markersize = 15)\n",
    "    elif dfpos[sixman[i]] == \"PF\":\n",
    "        plt.plot(player_r[sixman[i],0], player_r[sixman[i],1], color = \"blue\", marker = \"*\", markersize = 15)\n",
    "    elif dfpos[sixman[i]] == \"F/C\":\n",
    "        plt.plot(player_r[sixman[i],0], player_r[sixman[i],1], color = \"blue\", marker = \"*\", markersize = 15)\n",
    "    elif dfpos[sixman[i]] == \"PF/C\":\n",
    "        plt.plot(player_r[sixman[i],0], player_r[sixman[i],1], color = \"blue\", marker = \"*\", markersize = 15)\n",
    "    elif dfpos[sixman[i]] == \"C\":\n",
    "        plt.plot(player_r[sixman[i],0], player_r[sixman[i],1], color = \"blue\", marker = \"*\", markersize = 15)\n",
    "        \n",
    "#画像として保存\n",
    "plt.savefig(\"clustering_output2.png\")"
   ]
  },
  {
   "cell_type": "code",
   "execution_count": null,
   "metadata": {
    "collapsed": true
   },
   "outputs": [],
   "source": []
  }
 ],
 "metadata": {
  "kernelspec": {
   "display_name": "Python 3",
   "language": "python",
   "name": "python3"
  },
  "language_info": {
   "codemirror_mode": {
    "name": "ipython",
    "version": 3
   },
   "file_extension": ".py",
   "mimetype": "text/x-python",
   "name": "python",
   "nbconvert_exporter": "python",
   "pygments_lexer": "ipython3",
   "version": "3.6.0"
  }
 },
 "nbformat": 4,
 "nbformat_minor": 2
}
