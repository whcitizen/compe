{
 "cells": [
  {
   "cell_type": "code",
   "execution_count": 1,
   "metadata": {
    "collapsed": false,
    "scrolled": true
   },
   "outputs": [],
   "source": [
    "#データの読込\n",
    "import numpy as np\n",
    "import pandas as pd\n",
    "import codecs\n",
    "\n",
    "with codecs.open(\"input_data.csv\",\"r\",\"Shift-JIS\",\"ignore\") as file:\n",
    "    df = pd.read_csv(file)\n",
    "with codecs.open(\"input_data.csv\",\"r\",\"Shift-JIS\",\"ignore\") as file2:\n",
    "    df2 = pd.read_csv(file2)"
   ]
  },
  {
   "cell_type": "code",
   "execution_count": 2,
   "metadata": {
    "collapsed": false,
    "scrolled": false
   },
   "outputs": [],
   "source": [
    "#プレイタイム上位半分のデータを選択\n",
    "median = df[\"プレイタイム\"].median()\n",
    "df = df.loc[df[\"プレイタイム\"] >= median]\n",
    "\n",
    "#ポジションデータを一旦消去\n",
    "del df[\"position\"]\n",
    "\n",
    "#データの標準化\n",
    "df_st = df.apply(lambda x: (x-x.mean())/x.std(), axis=0).fillna(0)\n",
    "\n",
    "#選手IDと6manのデータの変更\n",
    "df_st[\"選手ID\"] = df[\"選手ID\"]\n",
    "df_st[\"6man\"] = df[\"6man\"]\n",
    "df_st[\"position\"] = df2[\"position\"]\n",
    "\n",
    "#行番号の振り直し\n",
    "df_st = df_st.reset_index(drop = True)"
   ]
  },
  {
   "cell_type": "code",
   "execution_count": 3,
   "metadata": {
    "collapsed": false,
    "scrolled": true
   },
   "outputs": [],
   "source": [
    "from sklearn.cluster import KMeans\n",
    "from sklearn.decomposition import PCA\n",
    "import matplotlib.pyplot as plt\n",
    "\n",
    "with codecs.open(\"clustering_data.csv\",\"r\",\"Shift-JIS\",\"ignore\") as file:\n",
    "    playerdf = pd.read_csv(file)\n",
    "    \n",
    "#選手ID,6man,ポジション情報を削除\n",
    "del playerdf[\"選手ID\"]\n",
    "del playerdf[\"6man\"]\n",
    "del playerdf[\"position\"]\n",
    "\n",
    "#dfをarrayに変換\n",
    "player = playerdf.as_matrix()\n",
    "\n",
    "#行番号を削除\n",
    "player = np.delete(player,0,1)"
   ]
  },
  {
   "cell_type": "code",
   "execution_count": 34,
   "metadata": {
    "collapsed": false
   },
   "outputs": [
    {
     "name": "stderr",
     "output_type": "stream",
     "text": [
      "C:\\Users\\survey-2\\Anaconda3\\lib\\site-packages\\matplotlib\\pyplot.py:524: RuntimeWarning: More than 20 figures have been opened. Figures created through the pyplot interface (`matplotlib.pyplot.figure`) are retained until explicitly closed and may consume too much memory. (To control this warning, see the rcParam `figure.max_open_warning`).\n",
      "  max_open_warning, RuntimeWarning)\n"
     ]
    }
   ],
   "source": [
    "#最適(ということにする)クラスタ数でのクラスタリング\n",
    "km = KMeans(n_clusters=5).fit_predict(player) \n",
    "\n",
    "#PCAで次元削減\n",
    "pca = PCA(n_components=2)\n",
    "player_r = pca.fit_transform(player)\n",
    "\n",
    "#ポジションのデータフレームを作成\n",
    "dfpos = df_st[\"position\"]\n",
    "\n",
    "# 結果を散布図にプロット\n",
    "position = \"C\"\n",
    "position_color = \"purple\"\n",
    "\n",
    "if \"/\" in position:\n",
    "    dataname = position.replace(\"/\", \"or\")\n",
    "else:\n",
    "    dataname = position\n",
    "\n",
    "plt.figure()\n",
    "for i in range(0, len(km)):\n",
    "    if dfpos[i] == position:\n",
    "        plt.scatter(player_r[i, 0], player_r[i, 1], c= position_color)\n",
    "\n",
    "plt.title(\"player clustering \" + position)\n",
    "plt.xlim([-7,15])\n",
    "plt.ylim([-6,7])\n",
    "\n",
    "sixman = [22, 28, 31, 32, 52, 85, 158, 165, 172, 181, 217, 223]\n",
    "for i in range(0, len(sixman)):\n",
    "    if dfpos[sixman[i]] == position:\n",
    "        plt.plot(player_r[sixman[i],0], player_r[sixman[i],1], color = position_color, marker = \"*\", markersize = 15)\n",
    "        \n",
    "#画像として保存\n",
    "plt.savefig(\"clustering_\" + dataname + \".png\")"
   ]
  },
  {
   "cell_type": "code",
   "execution_count": null,
   "metadata": {
    "collapsed": true
   },
   "outputs": [],
   "source": []
  }
 ],
 "metadata": {
  "kernelspec": {
   "display_name": "Python 3",
   "language": "python",
   "name": "python3"
  },
  "language_info": {
   "codemirror_mode": {
    "name": "ipython",
    "version": 3
   },
   "file_extension": ".py",
   "mimetype": "text/x-python",
   "name": "python",
   "nbconvert_exporter": "python",
   "pygments_lexer": "ipython3",
   "version": "3.6.0"
  }
 },
 "nbformat": 4,
 "nbformat_minor": 2
}
